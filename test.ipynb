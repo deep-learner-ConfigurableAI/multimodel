{
 "cells": [
  {
   "cell_type": "code",
   "execution_count": 3,
   "id": "c0135e60",
   "metadata": {},
   "outputs": [],
   "source": [
    "from transformers import GPT2LMHeadModel\n",
    "from transformers import GPT2Tokenizer\n",
    "\n",
    "\n",
    "tokenizer = GPT2Tokenizer.from_pretrained(\"gpt2\")\n",
    "gpt_decoder = GPT2LMHeadModel.from_pretrained(\"gpt2\")\n",
    "tokenizer.pad_token = \"<PAD>\"\n"
   ]
  },
  {
   "cell_type": "code",
   "execution_count": 23,
   "id": "74c8534f",
   "metadata": {},
   "outputs": [],
   "source": [
    "caption_length = 20 \n",
    "\n",
    "\n",
    "caption = \"Who is Modi \"\n",
    "\n",
    "tokens = tokenizer(\n",
    "            caption,\n",
    "            max_length=caption_length,\n",
    "            padding=\"max_length\",\n",
    "            truncation=True,\n",
    "            return_tensors=\"pt\"\n",
    "        )\n"
   ]
  },
  {
   "cell_type": "code",
   "execution_count": 5,
   "id": "6e5b9c62",
   "metadata": {},
   "outputs": [
    {
     "data": {
      "text/plain": [
       "{'input_ids': tensor([[15496,   220, 50256, 50256, 50256, 50256, 50256, 50256, 50256, 50256,\n",
       "         50256, 50256, 50256, 50256, 50256, 50256, 50256, 50256, 50256, 50256]]), 'attention_mask': tensor([[1, 1, 0, 0, 0, 0, 0, 0, 0, 0, 0, 0, 0, 0, 0, 0, 0, 0, 0, 0]])}"
      ]
     },
     "execution_count": 5,
     "metadata": {},
     "output_type": "execute_result"
    }
   ],
   "source": [
    "tokens"
   ]
  },
  {
   "cell_type": "code",
   "execution_count": 24,
   "id": "b8cd6ca3",
   "metadata": {},
   "outputs": [
    {
     "data": {
      "text/plain": [
       "'Who is Modi This is a rush transcript. Copy may not be'"
      ]
     },
     "execution_count": 24,
     "metadata": {},
     "output_type": "execute_result"
    }
   ],
   "source": [
    "import torch \n",
    "\n",
    "gpt_decoder.eval() \n",
    "\n",
    "with torch.no_grad():\n",
    "        output_ids = gpt_decoder.generate(\n",
    "            input_ids=tokens[\"input_ids\"],\n",
    "            max_length=30,\n",
    "            num_beams=3,\n",
    "            pad_token_id=tokenizer.pad_token_id,\n",
    "            eos_token_id=tokenizer.eos_token_id,\n",
    "        )\n",
    "\n",
    "    # Decode\n",
    "tokenizer.decode(output_ids[0], skip_special_tokens=True)"
   ]
  },
  {
   "cell_type": "code",
   "execution_count": 22,
   "id": "f2a04e84",
   "metadata": {},
   "outputs": [
    {
     "name": "stdout",
     "output_type": "stream",
     "text": [
      "Who is Modi ?\"\n",
      "\n",
      "\"He is the Prime Minister of India. He is the Prime Minister of India. He is the Prime Minister of India. He is\n"
     ]
    }
   ],
   "source": [
    "import torch\n",
    "\n",
    "def greedy_generate(model, tokenizer, input_ids, max_new_tokens=30, device=\"cpu\"):\n",
    "    model.eval()\n",
    "    generated = input_ids.to(device)\n",
    "\n",
    "    for _ in range(max_new_tokens):\n",
    "        # Forward pass\n",
    "        with torch.no_grad():\n",
    "            outputs = model(input_ids=generated)\n",
    "            logits = outputs.logits  # (B, T, V)\n",
    "        \n",
    "        # Get last token logits\n",
    "        next_token_logits = logits[:, -1, :]  # (B, V)\n",
    "\n",
    "        # Greedy: pick the highest-prob token\n",
    "        next_token = torch.argmax(next_token_logits, dim=-1).unsqueeze(-1)  # (B, 1)\n",
    "\n",
    "        # Append to sequence\n",
    "        generated = torch.cat([generated, next_token], dim=1)\n",
    "\n",
    "        # Stop if EOS generated\n",
    "        if tokenizer.eos_token_id is not None and (next_token == tokenizer.eos_token_id).all():\n",
    "            break\n",
    "\n",
    "    return generated\n",
    "\n",
    "# Example usage\n",
    "tokens = tokenizer(\"Who is Modi \", return_tensors=\"pt\")\n",
    "output_ids = greedy_generate(gpt_decoder, tokenizer, tokens[\"input_ids\"], max_new_tokens=30)\n",
    "print(tokenizer.decode(output_ids[0], skip_special_tokens=True))\n"
   ]
  },
  {
   "cell_type": "code",
   "execution_count": null,
   "id": "87a558cd",
   "metadata": {},
   "outputs": [],
   "source": []
  }
 ],
 "metadata": {
  "kernelspec": {
   "display_name": "multimodel (3.12.0)",
   "language": "python",
   "name": "python3"
  },
  "language_info": {
   "codemirror_mode": {
    "name": "ipython",
    "version": 3
   },
   "file_extension": ".py",
   "mimetype": "text/x-python",
   "name": "python",
   "nbconvert_exporter": "python",
   "pygments_lexer": "ipython3",
   "version": "3.12.0b4"
  }
 },
 "nbformat": 4,
 "nbformat_minor": 5
}
